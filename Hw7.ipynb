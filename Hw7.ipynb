{
 "cells": [
  {
   "cell_type": "code",
   "execution_count": 1,
   "metadata": {
    "colab": {
     "base_uri": "https://localhost:8080/"
    },
    "id": "m0PkKPKbOauy",
    "outputId": "74d5063b-ffab-4f97-e153-9661e4827445"
   },
   "outputs": [
    {
     "name": "stdout",
     "output_type": "stream",
     "text": [
      "Collecting surprise\n",
      "  Downloading surprise-0.1-py2.py3-none-any.whl (1.8 kB)\n",
      "Collecting scikit-surprise (from surprise)\n",
      "  Downloading scikit-surprise-1.1.3.tar.gz (771 kB)\n",
      "\u001b[2K     \u001b[90m━━━━━━━━━━━━━━━━━━━━━━━━━━━━━━━━━━━━━━━━\u001b[0m \u001b[32m772.0/772.0 kB\u001b[0m \u001b[31m4.8 MB/s\u001b[0m eta \u001b[36m0:00:00\u001b[0m\n",
      "\u001b[?25h  Preparing metadata (setup.py) ... \u001b[?25l\u001b[?25hdone\n",
      "Requirement already satisfied: joblib>=1.0.0 in /usr/local/lib/python3.10/dist-packages (from scikit-surprise->surprise) (1.4.2)\n",
      "Requirement already satisfied: numpy>=1.17.3 in /usr/local/lib/python3.10/dist-packages (from scikit-surprise->surprise) (1.25.2)\n",
      "Requirement already satisfied: scipy>=1.3.2 in /usr/local/lib/python3.10/dist-packages (from scikit-surprise->surprise) (1.11.4)\n",
      "Building wheels for collected packages: scikit-surprise\n",
      "  Building wheel for scikit-surprise (setup.py) ... \u001b[?25l\u001b[?25hdone\n",
      "  Created wheel for scikit-surprise: filename=scikit_surprise-1.1.3-cp310-cp310-linux_x86_64.whl size=3163001 sha256=15b22885bf9b7bfb582de3775134b0d0b4d7138a59fb076d0b7664b522b428bd\n",
      "  Stored in directory: /root/.cache/pip/wheels/a5/ca/a8/4e28def53797fdc4363ca4af740db15a9c2f1595ebc51fb445\n",
      "Successfully built scikit-surprise\n",
      "Installing collected packages: scikit-surprise, surprise\n",
      "Successfully installed scikit-surprise-1.1.3 surprise-0.1\n"
     ]
    }
   ],
   "source": [
    "!pip install surprise"
   ]
  },
  {
   "cell_type": "code",
   "execution_count": 19,
   "metadata": {
    "id": "2On0ZfA2O2dg"
   },
   "outputs": [],
   "source": [
    "from surprise import Dataset\n",
    "from surprise.prediction_algorithms.matrix_factorization import SVD, SVDpp, NMF\n",
    "from surprise.model_selection import cross_validate\n",
    "\n",
    "import numpy as np\n"
   ]
  },
  {
   "cell_type": "code",
   "execution_count": 3,
   "metadata": {
    "colab": {
     "base_uri": "https://localhost:8080/"
    },
    "id": "sjxk9wMpPflU",
    "outputId": "063bfffd-2f14-45ae-9e8c-2fb80d98dd21"
   },
   "outputs": [
    {
     "name": "stdout",
     "output_type": "stream",
     "text": [
      "Dataset ml-100k could not be found. Do you want to download it? [Y/n] y\n",
      "Trying to download dataset from https://files.grouplens.org/datasets/movielens/ml-100k.zip...\n",
      "Done! Dataset ml-100k has been saved to /root/.surprise_data/ml-100k\n"
     ]
    }
   ],
   "source": [
    "data = Dataset.load_builtin(name=\"ml-100k\")"
   ]
  },
  {
   "cell_type": "code",
   "execution_count": 24,
   "metadata": {
    "id": "LT8x7Lx1YIQe"
   },
   "outputs": [],
   "source": [
    "algorithms = [\n",
    "              SVD,\n",
    "              SVDpp,\n",
    "              NMF\n",
    "              ]\n"
   ]
  },
  {
   "cell_type": "code",
   "execution_count": 38,
   "metadata": {
    "colab": {
     "base_uri": "https://localhost:8080/"
    },
    "id": "0URJEJgKP9f4",
    "outputId": "f9f514f9-0ab6-4beb-b4a7-837b2bf7d8d5"
   },
   "outputs": [
    {
     "name": "stdout",
     "output_type": "stream",
     "text": [
      "Evaluating RMSE of algorithm SVD on 5 split(s).\n",
      "\n",
      "                  Fold 1  Fold 2  Fold 3  Fold 4  Fold 5  Mean    Std     \n",
      "RMSE (testset)    0.9283  0.9301  0.9389  0.9424  0.9386  0.9356  0.0055  \n",
      "RMSE (trainset)   0.6840  0.6860  0.6888  0.6836  0.6851  0.6855  0.0019  \n",
      "Fit time          1.86    1.47    1.51    1.94    2.12    1.78    0.25    \n",
      "Test time         0.21    0.32    0.13    0.66    0.20    0.30    0.19    \n",
      "Evaluating RMSE of algorithm SVDpp on 5 split(s).\n",
      "\n",
      "                  Fold 1  Fold 2  Fold 3  Fold 4  Fold 5  Mean    Std     \n",
      "RMSE (testset)    0.9209  0.9177  0.9164  0.9152  0.9265  0.9193  0.0040  \n",
      "RMSE (trainset)   0.7609  0.7567  0.7606  0.7614  0.7583  0.7596  0.0018  \n",
      "Fit time          26.71   26.93   27.83   27.73   27.66   27.37   0.46    \n",
      "Test time         4.89    4.84    4.70    4.80    4.81    4.81    0.06    \n",
      "Evaluating RMSE of algorithm NMF on 5 split(s).\n",
      "\n",
      "                  Fold 1  Fold 2  Fold 3  Fold 4  Fold 5  Mean    Std     \n",
      "RMSE (testset)    0.9691  0.9636  0.9608  0.9595  0.9643  0.9635  0.0033  \n",
      "RMSE (trainset)   0.7989  0.7959  0.7920  0.7988  0.7978  0.7967  0.0026  \n",
      "Fit time          3.15    2.37    2.43    3.00    2.35    2.66    0.34    \n",
      "Test time         0.31    0.10    0.31    0.18    0.13    0.21    0.09    \n"
     ]
    }
   ],
   "source": [
    "cv = 5\n",
    "mean_test_errors = []\n",
    "\n",
    "for alghorithm in algorithms:\n",
    "\n",
    "  alg = alghorithm()\n",
    "  validation = cross_validate(alg, data, measures=['RMSE'], cv=cv, verbose=True, return_train_measures=True)\n",
    "  mean_test_error = np.mean(validation['test_rmse'])\n",
    "  mean_test_errors.append(mean_test_error)\n"
   ]
  },
  {
   "cell_type": "code",
   "execution_count": 39,
   "metadata": {
    "colab": {
     "base_uri": "https://localhost:8080/"
    },
    "id": "i12Tg9KpcxZl",
    "outputId": "4d58e8ef-1caf-4a44-e8de-44618e0cf85c"
   },
   "outputs": [
    {
     "name": "stdout",
     "output_type": "stream",
     "text": [
      "<surprise.prediction_algorithms.matrix_factorization.SVDpp object at 0x789be1ea1510>\n"
     ]
    }
   ],
   "source": [
    "alg_index = mean_test_errors.index(min(mean_test_errors))\n",
    "choosen_alg = algorithms[alg_index]()\n",
    "print(str(choosen_alg))"
   ]
  },
  {
   "cell_type": "code",
   "execution_count": 40,
   "metadata": {
    "colab": {
     "base_uri": "https://localhost:8080/"
    },
    "id": "62hfmwxKXxHM",
    "outputId": "1c5dda82-5813-49c4-f74d-c207a63c1744"
   },
   "outputs": [
    {
     "data": {
      "text/plain": [
       "<surprise.prediction_algorithms.matrix_factorization.SVDpp at 0x789be1ea1510>"
      ]
     },
     "execution_count": 40,
     "metadata": {},
     "output_type": "execute_result"
    }
   ],
   "source": [
    "data_training = data.build_full_trainset()\n",
    "choosen_alg.fit(data_training)\n"
   ]
  }
 ],
 "metadata": {
  "colab": {
   "provenance": []
  },
  "kernelspec": {
   "display_name": "Python 3 (ipykernel)",
   "language": "python",
   "name": "python3"
  },
  "language_info": {
   "codemirror_mode": {
    "name": "ipython",
    "version": 3
   },
   "file_extension": ".py",
   "mimetype": "text/x-python",
   "name": "python",
   "nbconvert_exporter": "python",
   "pygments_lexer": "ipython3",
   "version": "3.11.4"
  }
 },
 "nbformat": 4,
 "nbformat_minor": 4
}
